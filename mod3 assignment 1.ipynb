{
 "cells": [
  {
   "cell_type": "code",
   "execution_count": 2,
   "metadata": {},
   "outputs": [
    {
     "name": "stdout",
     "output_type": "stream",
     "text": [
      "Input a binary number: 100\n",
      "The decimal value of the number is 4\n"
     ]
    }
   ],
   "source": [
    "#1.binary - decimal\n",
    "b = list(input(\"Input a binary number: \"))\n",
    "value = 0\n",
    "for i in range(len(b)):\n",
    "    digit = b.pop()\n",
    "    if digit == '1':\n",
    "        value = value + pow(2, i)\n",
    "print(\"The decimal value of the number is\", value)\n"
   ]
  },
  {
   "cell_type": "code",
   "execution_count": 6,
   "metadata": {},
   "outputs": [
    {
     "name": "stdout",
     "output_type": "stream",
     "text": [
      "Enter n 8\n",
      "0\n",
      "1\n",
      "1\n",
      "2\n",
      "3\n",
      "5\n",
      "8\n",
      "13\n"
     ]
    }
   ],
   "source": [
    "n= int(input(\"Enter n \"))\n",
    "n1, n2 = 0, 1\n",
    "count = 0\n",
    "if n <= 0:\n",
    "   print(\"enter a value\")\n",
    "elif n == 1:\n",
    "   print(n1)\n",
    "else:\n",
    "   while count < n:\n",
    "       print(n1)\n",
    "       p = n1 + n2\n",
    "       n1 = n2\n",
    "       n2 = p\n",
    "       count += 1"
   ]
  },
  {
   "cell_type": "code",
   "execution_count": 7,
   "metadata": {},
   "outputs": [
    {
     "name": "stdout",
     "output_type": "stream",
     "text": [
      "Enter the number=2\n",
      "2 * 1 = 2\n",
      "2 * 2 = 4\n",
      "2 * 3 = 6\n",
      "2 * 4 = 8\n",
      "2 * 5 = 10\n",
      "2 * 6 = 12\n",
      "2 * 7 = 14\n",
      "2 * 8 = 16\n",
      "2 * 9 = 18\n",
      "2 * 10 = 20\n"
     ]
    }
   ],
   "source": [
    "k=int(input(\"Enter the number=\"))\n",
    "for i in range(1,11):\n",
    "    print(k,\"*\",i,'=',k*i)"
   ]
  },
  {
   "cell_type": "code",
   "execution_count": 8,
   "metadata": {},
   "outputs": [
    {
     "name": "stdout",
     "output_type": "stream",
     "text": [
      "enter=2\n",
      "enter=3\n",
      "enter=4\n",
      "enter=5\n",
      "enter=1\n",
      "enter=2\n",
      "enter=3\n",
      "enter=4\n",
      "enter=3\n",
      "enter=2\n",
      "Sum= 55\n",
      "Average= 5.5\n"
     ]
    }
   ],
   "source": [
    "sum1=0\n",
    "for i in range(1,11):\n",
    "    a=int(input(\"enter=\"))\n",
    "    sum1=sum1+i\n",
    "avg=sum1/10\n",
    "print(\"Sum=\",sum1)\n",
    "print(\"Average=\",avg)"
   ]
  },
  {
   "cell_type": "code",
   "execution_count": 9,
   "metadata": {},
   "outputs": [
    {
     "name": "stdout",
     "output_type": "stream",
     "text": [
      "Enter the number of rows=7\n",
      "\n",
      "*  \n",
      "*  *  \n",
      "*  *  *  \n",
      "*  *  *  *  \n",
      "*  *  *  *  *  \n",
      "*  *  *  *  *  *  \n"
     ]
    }
   ],
   "source": [
    "n=int(input(\"Enter the number of rows=\"))\n",
    "for i in range(0,n):\n",
    "    for j in range(0,i):\n",
    "        print(\"* \",end=\" \")\n",
    "    print('')\n",
    "        "
   ]
  },
  {
   "cell_type": "code",
   "execution_count": null,
   "metadata": {},
   "outputs": [],
   "source": []
  }
 ],
 "metadata": {
  "kernelspec": {
   "display_name": "Python 3",
   "language": "python",
   "name": "python3"
  },
  "language_info": {
   "codemirror_mode": {
    "name": "ipython",
    "version": 3
   },
   "file_extension": ".py",
   "mimetype": "text/x-python",
   "name": "python",
   "nbconvert_exporter": "python",
   "pygments_lexer": "ipython3",
   "version": "3.8.3"
  }
 },
 "nbformat": 4,
 "nbformat_minor": 4
}
